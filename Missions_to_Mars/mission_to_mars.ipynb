{
 "cells": [
  {
   "cell_type": "code",
   "execution_count": 1,
   "id": "73d591e0",
   "metadata": {},
   "outputs": [],
   "source": [
    "#import dependencies\n",
    "from splinter import Browser\n",
    "from bs4 import BeautifulSoup as bs\n",
    "import pandas as pd\n",
    "import requests\n",
    "from webdriver_manager.chrome import ChromeDriverManager\n",
    "\n"
   ]
  },
  {
   "cell_type": "code",
   "execution_count": 2,
   "id": "224d5a74",
   "metadata": {},
   "outputs": [],
   "source": [
    "#declare urls\n",
    "url1 = 'https://redplanetscience.com/'\n",
    "url2 = 'https://spaceimages-mars.com/'\n",
    "url3 = 'https://galaxyfacts-mars.com/'\n",
    "url4 = 'https://marshemispheres.com/'\n"
   ]
  },
  {
   "cell_type": "code",
   "execution_count": 32,
   "id": "b1e851ec",
   "metadata": {},
   "outputs": [
    {
     "name": "stderr",
     "output_type": "stream",
     "text": [
      "[WDM] - \n",
      "\n",
      "[WDM] - ====== WebDriver manager ======\n",
      "[WDM] - Current google-chrome version is 95.0.4638\n",
      "[WDM] - Get LATEST driver version for 95.0.4638\n",
      "[WDM] - Driver [C:\\Users\\soche\\.wdm\\drivers\\chromedriver\\win32\\95.0.4638.54\\chromedriver.exe] found in cache\n"
     ]
    }
   ],
   "source": [
    "executable_path = {'executable_path': ChromeDriverManager().install()}\n",
    "browser = Browser('chrome', **executable_path, headless=False)\n"
   ]
  },
  {
   "cell_type": "code",
   "execution_count": 4,
   "id": "e2962187",
   "metadata": {},
   "outputs": [
    {
     "name": "stdout",
     "output_type": "stream",
     "text": [
      "NASA's Curiosity Mars Rover Takes a New Selfie Before Record Climb\n",
      "Along with capturing an image before its steepest ascent ever, the robotic explorer filmed its \"selfie stick,\" or robotic arm, in action.\n"
     ]
    }
   ],
   "source": [
    "#scrape news\n",
    "browser.visit(url1)\n",
    "html = browser.html\n",
    "soup = bs(html, 'html.parser')\n",
    "\n",
    "news_title = soup.find('div', class_='content_title').text\n",
    "news_p = soup.find('div', class_='article_teaser_body').text\n",
    "\n",
    "print(news_title)\n",
    "print(news_p)"
   ]
  },
  {
   "cell_type": "code",
   "execution_count": 5,
   "id": "341e4180",
   "metadata": {},
   "outputs": [
    {
     "name": "stdout",
     "output_type": "stream",
     "text": [
      "https://spaceimages-mars.com/image/featured/mars3.jpg\n"
     ]
    }
   ],
   "source": [
    "#scrape featured image\n",
    "browser.visit(url2)\n",
    "html = browser.html\n",
    "soup = bs(html, 'html.parser')\n",
    "\n",
    "featured_image_url = url2 + soup.find('img', class_='headerimage')['src']\n",
    "\n",
    "print(featured_image_url)"
   ]
  },
  {
   "cell_type": "code",
   "execution_count": 6,
   "id": "3b6031e4",
   "metadata": {},
   "outputs": [
    {
     "data": {
      "text/plain": [
       "[                         0                1                2\n",
       " 0  Mars - Earth Comparison             Mars            Earth\n",
       " 1                Diameter:         6,779 km        12,742 km\n",
       " 2                    Mass:  6.39 × 10^23 kg  5.97 × 10^24 kg\n",
       " 3                   Moons:                2                1\n",
       " 4       Distance from Sun:   227,943,824 km   149,598,262 km\n",
       " 5          Length of Year:   687 Earth days      365.24 days\n",
       " 6             Temperature:     -87 to -5 °C      -88 to 58°C,\n",
       "                       0                              1\n",
       " 0  Equatorial Diameter:                       6,792 km\n",
       " 1       Polar Diameter:                       6,752 km\n",
       " 2                 Mass:  6.39 × 10^23 kg (0.11 Earths)\n",
       " 3                Moons:          2 ( Phobos & Deimos )\n",
       " 4       Orbit Distance:       227,943,824 km (1.38 AU)\n",
       " 5         Orbit Period:           687 days (1.9 years)\n",
       " 6  Surface Temperature:                   -87 to -5 °C\n",
       " 7         First Record:              2nd millennium BC\n",
       " 8          Recorded By:           Egyptian astronomers]"
      ]
     },
     "execution_count": 6,
     "metadata": {},
     "output_type": "execute_result"
    }
   ],
   "source": [
    "#scrape facts in pandas\n",
    "tables = pd.read_html(url3)\n",
    "tables"
   ]
  },
  {
   "cell_type": "code",
   "execution_count": 26,
   "id": "fcd64de2",
   "metadata": {},
   "outputs": [],
   "source": [
    "#select table for mars facts\n",
    "mars_facts_df = tables[0]\n"
   ]
  },
  {
   "cell_type": "code",
   "execution_count": 31,
   "id": "59eb6cc8",
   "metadata": {},
   "outputs": [
    {
     "data": {
      "text/plain": [
       "'<table border=\"1\" class=\"dataframe\">  <thead>    <tr style=\"text-align: right;\">      <th>Description</th>      <th>Mars</th>      <th>Earth</th>    </tr>  </thead>  <tbody>    <tr>      <td>Mars - Earth Comparison</td>      <td>Mars</td>      <td>Earth</td>    </tr>    <tr>      <td>Diameter:</td>      <td>6,779 km</td>      <td>12,742 km</td>    </tr>    <tr>      <td>Mass:</td>      <td>6.39 × 10^23 kg</td>      <td>5.97 × 10^24 kg</td>    </tr>    <tr>      <td>Moons:</td>      <td>2</td>      <td>1</td>    </tr>    <tr>      <td>Distance from Sun:</td>      <td>227,943,824 km</td>      <td>149,598,262 km</td>    </tr>    <tr>      <td>Length of Year:</td>      <td>687 Earth days</td>      <td>365.24 days</td>    </tr>    <tr>      <td>Temperature:</td>      <td>-87 to -5 °C</td>      <td>-88 to 58°C</td>    </tr>  </tbody></table>'"
      ]
     },
     "execution_count": 31,
     "metadata": {},
     "output_type": "execute_result"
    }
   ],
   "source": [
    "#rename columns\n",
    "renamed_mars_facts_df = mars_facts_df.rename(columns={0:'Description', 1:'Mars', 2:'Earth'})\n",
    "\n",
    "#render html table from pandas\n",
    "mars_facts_table = renamed_mars_facts_df.to_html(index=False)\n",
    "\n",
    "#clean \n",
    "final_mars_facts_table = mars_facts_table.replace('\\n', '')\n",
    "final_mars_facts_table\n"
   ]
  },
  {
   "cell_type": "code",
   "execution_count": 60,
   "id": "fdb70d1e",
   "metadata": {},
   "outputs": [],
   "source": [
    "#scrape 4 hemispheres\n",
    "browser.visit(url4)\n",
    "html = browser.html\n",
    "soup = bs(html, 'html.parser')\n",
    "\n",
    "#get 4 hemispheres\n",
    "hemispheres = soup.find_all('div', class_='description')\n",
    "#hemispheres_link = hemispheres.find_all('a')\n",
    "#print (hemispheres)\n",
    "\n",
    "#set up hemi url list\n",
    "hemisphere_image_urls = []\n",
    "\n",
    "#loop through each hemisphere div\n",
    "for hemi in hemispheres:\n",
    "    hemi_dict = {}\n",
    "    \n",
    "    #extract hemisphere title\n",
    "    hemi_title = hemi.find('h3').text\n",
    "        \n",
    "    #go to the link in div\n",
    "    browser.links.find_by_partial_text(hemi_title).click()\n",
    "    hemi_html = browser.html\n",
    "    hemi_soup = bs(hemi_html, 'html.parser')\n",
    "    \n",
    "    #pull href to complete image urls\n",
    "    temp_div = hemi_soup.find('div', class_='downloads')\n",
    "    hemi_image = temp_div.find('a')['href']\n",
    "    hemi_image_link = url4 + hemi_image\n",
    "    #print(temp_div)\n",
    "    \n",
    "    #add values to dictionary\n",
    "    hemi_dict['title'] = hemi_title\n",
    "    hemi_dict['img_url'] = hemi_image_link\n",
    "    \n",
    "    #add dictionary to list hemisphere_image_urls\n",
    "    hemisphere_image_urls.append(hemi_dict)\n",
    "    \n",
    "    #go back a page\n",
    "    browser.back()"
   ]
  },
  {
   "cell_type": "code",
   "execution_count": 61,
   "id": "ecfb4903",
   "metadata": {},
   "outputs": [
    {
     "name": "stdout",
     "output_type": "stream",
     "text": [
      "[{'title': 'Cerberus Hemisphere Enhanced', 'img_url': 'https://marshemispheres.com/images/full.jpg'}, {'title': 'Schiaparelli Hemisphere Enhanced', 'img_url': 'https://marshemispheres.com/images/schiaparelli_enhanced-full.jpg'}, {'title': 'Syrtis Major Hemisphere Enhanced', 'img_url': 'https://marshemispheres.com/images/syrtis_major_enhanced-full.jpg'}, {'title': 'Valles Marineris Hemisphere Enhanced', 'img_url': 'https://marshemispheres.com/images/valles_marineris_enhanced-full.jpg'}]\n"
     ]
    }
   ],
   "source": [
    "#display list\n",
    "print (hemisphere_image_urls)"
   ]
  }
 ],
 "metadata": {
  "kernelspec": {
   "display_name": "Python 3",
   "language": "python",
   "name": "python3"
  },
  "language_info": {
   "codemirror_mode": {
    "name": "ipython",
    "version": 3
   },
   "file_extension": ".py",
   "mimetype": "text/x-python",
   "name": "python",
   "nbconvert_exporter": "python",
   "pygments_lexer": "ipython3",
   "version": "3.6.10"
  }
 },
 "nbformat": 4,
 "nbformat_minor": 5
}
